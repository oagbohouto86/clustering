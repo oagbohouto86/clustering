{
 "cells": [
  {
   "cell_type": "code",
   "execution_count": 2,
   "metadata": {},
   "outputs": [],
   "source": [
    "import os, pandas as pd\n",
    "import numpy as np\n",
    "import matplotlib.pyplot as plt\n",
    "import seaborn as sns\n",
    "import scipy.stats\n",
    "from sklearn.cluster import KMeans\n",
    "from sklearn.preprocessing import scale\n",
    "from sklearn_extra.cluster import KMedoids\n",
    "from collections import Counter\n",
    "import yellowbrick"
   ]
  },
  {
   "cell_type": "code",
   "execution_count": 3,
   "metadata": {},
   "outputs": [],
   "source": [
    "data = pd.read_csv('D:/STDV 1/ANALYSEDEDONNEES/PROJET CLUSTERING/states.csv')"
   ]
  },
  {
   "cell_type": "markdown",
   "metadata": {},
   "source": [
    "#### Data exploration, vizualisation and preparation"
   ]
  },
  {
   "cell_type": "code",
   "execution_count": 5,
   "metadata": {},
   "outputs": [
    {
     "data": {
      "text/html": [
       "<div>\n",
       "<style scoped>\n",
       "    .dataframe tbody tr th:only-of-type {\n",
       "        vertical-align: middle;\n",
       "    }\n",
       "\n",
       "    .dataframe tbody tr th {\n",
       "        vertical-align: top;\n",
       "    }\n",
       "\n",
       "    .dataframe thead th {\n",
       "        text-align: right;\n",
       "    }\n",
       "</style>\n",
       "<table border=\"1\" class=\"dataframe\">\n",
       "  <thead>\n",
       "    <tr style=\"text-align: right;\">\n",
       "      <th></th>\n",
       "      <th>State</th>\n",
       "      <th>Pop_Total</th>\n",
       "      <th>Immigration_dom_net</th>\n",
       "      <th>Am_migration_avec_etranger</th>\n",
       "      <th>Immigration_inter_net</th>\n",
       "      <th>Taux_naissance</th>\n",
       "      <th>Taux_mortalite</th>\n",
       "      <th>Pop_moins_65</th>\n",
       "      <th>Pop_plus_65</th>\n",
       "    </tr>\n",
       "    <tr>\n",
       "      <th>State</th>\n",
       "      <th></th>\n",
       "      <th></th>\n",
       "      <th></th>\n",
       "      <th></th>\n",
       "      <th></th>\n",
       "      <th></th>\n",
       "      <th></th>\n",
       "      <th></th>\n",
       "      <th></th>\n",
       "    </tr>\n",
       "  </thead>\n",
       "  <tbody>\n",
       "    <tr>\n",
       "      <th>Alabama</th>\n",
       "      <td>Alabama</td>\n",
       "      <td>4464356</td>\n",
       "      <td>-1.784356</td>\n",
       "      <td>-0.021952</td>\n",
       "      <td>0.689685</td>\n",
       "      <td>14.407229</td>\n",
       "      <td>10.284126</td>\n",
       "      <td>869.212939</td>\n",
       "      <td>130.787061</td>\n",
       "    </tr>\n",
       "    <tr>\n",
       "      <th>Alaska</th>\n",
       "      <td>Alaska</td>\n",
       "      <td>634892</td>\n",
       "      <td>-1.718402</td>\n",
       "      <td>-0.239411</td>\n",
       "      <td>2.094844</td>\n",
       "      <td>15.952319</td>\n",
       "      <td>4.644884</td>\n",
       "      <td>941.949182</td>\n",
       "      <td>58.050818</td>\n",
       "    </tr>\n",
       "    <tr>\n",
       "      <th>Arizona</th>\n",
       "      <td>Arizona</td>\n",
       "      <td>5307331</td>\n",
       "      <td>14.250666</td>\n",
       "      <td>-0.033915</td>\n",
       "      <td>4.294814</td>\n",
       "      <td>15.882748</td>\n",
       "      <td>7.766050</td>\n",
       "      <td>869.535365</td>\n",
       "      <td>130.464635</td>\n",
       "    </tr>\n",
       "    <tr>\n",
       "      <th>Arkansas</th>\n",
       "      <td>Arkansas</td>\n",
       "      <td>2692090</td>\n",
       "      <td>0.358086</td>\n",
       "      <td>-0.013373</td>\n",
       "      <td>1.069429</td>\n",
       "      <td>14.349075</td>\n",
       "      <td>10.507078</td>\n",
       "      <td>861.061480</td>\n",
       "      <td>138.938520</td>\n",
       "    </tr>\n",
       "    <tr>\n",
       "      <th>California</th>\n",
       "      <td>California</td>\n",
       "      <td>34501130</td>\n",
       "      <td>-2.014398</td>\n",
       "      <td>-0.043912</td>\n",
       "      <td>7.879191</td>\n",
       "      <td>15.371931</td>\n",
       "      <td>6.715519</td>\n",
       "      <td>894.028746</td>\n",
       "      <td>105.971254</td>\n",
       "    </tr>\n",
       "    <tr>\n",
       "      <th>Colorado</th>\n",
       "      <td>Colorado</td>\n",
       "      <td>4417714</td>\n",
       "      <td>9.317941</td>\n",
       "      <td>-0.057269</td>\n",
       "      <td>3.574473</td>\n",
       "      <td>14.568168</td>\n",
       "      <td>6.263420</td>\n",
       "      <td>903.517521</td>\n",
       "      <td>96.482479</td>\n",
       "    </tr>\n",
       "    <tr>\n",
       "      <th>Connecticut</th>\n",
       "      <td>Connecticut</td>\n",
       "      <td>3425074</td>\n",
       "      <td>-2.365496</td>\n",
       "      <td>-0.017518</td>\n",
       "      <td>3.495983</td>\n",
       "      <td>12.524693</td>\n",
       "      <td>8.998346</td>\n",
       "      <td>862.638880</td>\n",
       "      <td>137.361120</td>\n",
       "    </tr>\n",
       "    <tr>\n",
       "      <th>Delaware</th>\n",
       "      <td>Delaware</td>\n",
       "      <td>796165</td>\n",
       "      <td>5.393354</td>\n",
       "      <td>-0.040193</td>\n",
       "      <td>2.123932</td>\n",
       "      <td>14.014683</td>\n",
       "      <td>8.793403</td>\n",
       "      <td>869.446660</td>\n",
       "      <td>130.553340</td>\n",
       "    </tr>\n",
       "    <tr>\n",
       "      <th>District of Columbia</th>\n",
       "      <td>District of Columbia</td>\n",
       "      <td>571822</td>\n",
       "      <td>-7.771649</td>\n",
       "      <td>-0.073449</td>\n",
       "      <td>5.727307</td>\n",
       "      <td>14.327885</td>\n",
       "      <td>10.763839</td>\n",
       "      <td>880.753101</td>\n",
       "      <td>119.246899</td>\n",
       "    </tr>\n",
       "    <tr>\n",
       "      <th>Florida</th>\n",
       "      <td>Florida</td>\n",
       "      <td>16396515</td>\n",
       "      <td>12.521136</td>\n",
       "      <td>-0.034702</td>\n",
       "      <td>5.763359</td>\n",
       "      <td>12.543824</td>\n",
       "      <td>10.128311</td>\n",
       "      <td>826.277840</td>\n",
       "      <td>173.722160</td>\n",
       "    </tr>\n",
       "  </tbody>\n",
       "</table>\n",
       "</div>"
      ],
      "text/plain": [
       "                                     State  Pop_Total  Immigration_dom_net  \\\n",
       "State                                                                        \n",
       "Alabama                            Alabama    4464356            -1.784356   \n",
       "Alaska                              Alaska     634892            -1.718402   \n",
       "Arizona                            Arizona    5307331            14.250666   \n",
       "Arkansas                          Arkansas    2692090             0.358086   \n",
       "California                      California   34501130            -2.014398   \n",
       "Colorado                          Colorado    4417714             9.317941   \n",
       "Connecticut                    Connecticut    3425074            -2.365496   \n",
       "Delaware                          Delaware     796165             5.393354   \n",
       "District of Columbia  District of Columbia     571822            -7.771649   \n",
       "Florida                            Florida   16396515            12.521136   \n",
       "\n",
       "                      Am_migration_avec_etranger  Immigration_inter_net  \\\n",
       "State                                                                     \n",
       "Alabama                                -0.021952               0.689685   \n",
       "Alaska                                 -0.239411               2.094844   \n",
       "Arizona                                -0.033915               4.294814   \n",
       "Arkansas                               -0.013373               1.069429   \n",
       "California                             -0.043912               7.879191   \n",
       "Colorado                               -0.057269               3.574473   \n",
       "Connecticut                            -0.017518               3.495983   \n",
       "Delaware                               -0.040193               2.123932   \n",
       "District of Columbia                   -0.073449               5.727307   \n",
       "Florida                                -0.034702               5.763359   \n",
       "\n",
       "                      Taux_naissance  Taux_mortalite  Pop_moins_65  \\\n",
       "State                                                                \n",
       "Alabama                    14.407229       10.284126    869.212939   \n",
       "Alaska                     15.952319        4.644884    941.949182   \n",
       "Arizona                    15.882748        7.766050    869.535365   \n",
       "Arkansas                   14.349075       10.507078    861.061480   \n",
       "California                 15.371931        6.715519    894.028746   \n",
       "Colorado                   14.568168        6.263420    903.517521   \n",
       "Connecticut                12.524693        8.998346    862.638880   \n",
       "Delaware                   14.014683        8.793403    869.446660   \n",
       "District of Columbia       14.327885       10.763839    880.753101   \n",
       "Florida                    12.543824       10.128311    826.277840   \n",
       "\n",
       "                      Pop_plus_65  \n",
       "State                              \n",
       "Alabama                130.787061  \n",
       "Alaska                  58.050818  \n",
       "Arizona                130.464635  \n",
       "Arkansas               138.938520  \n",
       "California             105.971254  \n",
       "Colorado                96.482479  \n",
       "Connecticut            137.361120  \n",
       "Delaware               130.553340  \n",
       "District of Columbia   119.246899  \n",
       "Florida                173.722160  "
      ]
     },
     "execution_count": 5,
     "metadata": {},
     "output_type": "execute_result"
    }
   ],
   "source": [
    "data.head(n=10)"
   ]
  },
  {
   "cell_type": "code",
   "execution_count": 4,
   "metadata": {},
   "outputs": [],
   "source": [
    "data.columns =['State','Pop_Total','Immigration_dom_net','Am_migration_avec_etranger',\n",
    "               'Immigration_inter_net','Taux_naissance','Taux_mortalite','Pop_moins_65','Pop_plus_65'] #changer le nom des colonnes"
   ]
  },
  {
   "cell_type": "code",
   "execution_count": 5,
   "metadata": {},
   "outputs": [],
   "source": [
    "data.index=data['State'] #Changer le nom des lignes"
   ]
  },
  {
   "cell_type": "code",
   "execution_count": 6,
   "metadata": {},
   "outputs": [
    {
     "name": "stdout",
     "output_type": "stream",
     "text": [
      "<class 'pandas.core.frame.DataFrame'>\n",
      "Index: 51 entries, Alabama to Wyoming\n",
      "Data columns (total 9 columns):\n",
      " #   Column                      Non-Null Count  Dtype  \n",
      "---  ------                      --------------  -----  \n",
      " 0   State                       51 non-null     object \n",
      " 1   Pop_Total                   51 non-null     int64  \n",
      " 2   Immigration_dom_net         51 non-null     float64\n",
      " 3   Am_migration_avec_etranger  51 non-null     float64\n",
      " 4   Immigration_inter_net       51 non-null     float64\n",
      " 5   Taux_naissance              51 non-null     float64\n",
      " 6   Taux_mortalite              51 non-null     float64\n",
      " 7   Pop_moins_65                51 non-null     float64\n",
      " 8   Pop_plus_65                 51 non-null     float64\n",
      "dtypes: float64(7), int64(1), object(1)\n",
      "memory usage: 3.6+ KB\n"
     ]
    }
   ],
   "source": [
    "data.info()"
   ]
  },
  {
   "cell_type": "code",
   "execution_count": 34,
   "metadata": {},
   "outputs": [
    {
     "data": {
      "text/html": [
       "<div>\n",
       "<style scoped>\n",
       "    .dataframe tbody tr th:only-of-type {\n",
       "        vertical-align: middle;\n",
       "    }\n",
       "\n",
       "    .dataframe tbody tr th {\n",
       "        vertical-align: top;\n",
       "    }\n",
       "\n",
       "    .dataframe thead th {\n",
       "        text-align: right;\n",
       "    }\n",
       "</style>\n",
       "<table border=\"1\" class=\"dataframe\">\n",
       "  <thead>\n",
       "    <tr style=\"text-align: right;\">\n",
       "      <th></th>\n",
       "      <th>Pop_Total</th>\n",
       "      <th>Immigration_dom_net</th>\n",
       "      <th>Am_migration_avec_etranger</th>\n",
       "      <th>Immigration_inter_net</th>\n",
       "      <th>Taux_naissance</th>\n",
       "      <th>Taux_mortalite</th>\n",
       "      <th>Pop_moins_65</th>\n",
       "      <th>Pop_plus_65</th>\n",
       "    </tr>\n",
       "  </thead>\n",
       "  <tbody>\n",
       "    <tr>\n",
       "      <th>count</th>\n",
       "      <td>5.100000e+01</td>\n",
       "      <td>51.000000</td>\n",
       "      <td>51.000000</td>\n",
       "      <td>51.000000</td>\n",
       "      <td>51.000000</td>\n",
       "      <td>51.000000</td>\n",
       "      <td>51.000000</td>\n",
       "      <td>51.000000</td>\n",
       "    </tr>\n",
       "    <tr>\n",
       "      <th>mean</th>\n",
       "      <td>5.584253e+06</td>\n",
       "      <td>0.245705</td>\n",
       "      <td>-0.043689</td>\n",
       "      <td>2.529699</td>\n",
       "      <td>13.864436</td>\n",
       "      <td>8.732639</td>\n",
       "      <td>874.882913</td>\n",
       "      <td>125.117087</td>\n",
       "    </tr>\n",
       "    <tr>\n",
       "      <th>std</th>\n",
       "      <td>6.263147e+06</td>\n",
       "      <td>6.910674</td>\n",
       "      <td>0.055606</td>\n",
       "      <td>1.890858</td>\n",
       "      <td>1.735674</td>\n",
       "      <td>1.389106</td>\n",
       "      <td>18.494279</td>\n",
       "      <td>18.494279</td>\n",
       "    </tr>\n",
       "    <tr>\n",
       "      <th>min</th>\n",
       "      <td>4.944230e+05</td>\n",
       "      <td>-13.482586</td>\n",
       "      <td>-0.293205</td>\n",
       "      <td>0.272488</td>\n",
       "      <td>10.313445</td>\n",
       "      <td>4.644884</td>\n",
       "      <td>826.277840</td>\n",
       "      <td>58.050818</td>\n",
       "    </tr>\n",
       "    <tr>\n",
       "      <th>25%</th>\n",
       "      <td>1.517120e+06</td>\n",
       "      <td>-3.537676</td>\n",
       "      <td>-0.054932</td>\n",
       "      <td>1.071969</td>\n",
       "      <td>12.772303</td>\n",
       "      <td>7.800254</td>\n",
       "      <td>865.756168</td>\n",
       "      <td>118.139942</td>\n",
       "    </tr>\n",
       "    <tr>\n",
       "      <th>50%</th>\n",
       "      <td>4.063011e+06</td>\n",
       "      <td>-1.733683</td>\n",
       "      <td>-0.031338</td>\n",
       "      <td>2.093872</td>\n",
       "      <td>13.938746</td>\n",
       "      <td>8.903040</td>\n",
       "      <td>872.745487</td>\n",
       "      <td>127.254513</td>\n",
       "    </tr>\n",
       "    <tr>\n",
       "      <th>75%</th>\n",
       "      <td>6.247024e+06</td>\n",
       "      <td>3.663932</td>\n",
       "      <td>-0.009213</td>\n",
       "      <td>3.535228</td>\n",
       "      <td>14.681799</td>\n",
       "      <td>9.725720</td>\n",
       "      <td>881.860058</td>\n",
       "      <td>134.243832</td>\n",
       "    </tr>\n",
       "    <tr>\n",
       "      <th>max</th>\n",
       "      <td>3.450113e+07</td>\n",
       "      <td>27.349466</td>\n",
       "      <td>-0.000555</td>\n",
       "      <td>7.879191</td>\n",
       "      <td>20.405862</td>\n",
       "      <td>11.895671</td>\n",
       "      <td>941.949182</td>\n",
       "      <td>173.722160</td>\n",
       "    </tr>\n",
       "  </tbody>\n",
       "</table>\n",
       "</div>"
      ],
      "text/plain": [
       "          Pop_Total  Immigration_dom_net  Am_migration_avec_etranger  \\\n",
       "count  5.100000e+01            51.000000                   51.000000   \n",
       "mean   5.584253e+06             0.245705                   -0.043689   \n",
       "std    6.263147e+06             6.910674                    0.055606   \n",
       "min    4.944230e+05           -13.482586                   -0.293205   \n",
       "25%    1.517120e+06            -3.537676                   -0.054932   \n",
       "50%    4.063011e+06            -1.733683                   -0.031338   \n",
       "75%    6.247024e+06             3.663932                   -0.009213   \n",
       "max    3.450113e+07            27.349466                   -0.000555   \n",
       "\n",
       "       Immigration_inter_net  Taux_naissance  Taux_mortalite  Pop_moins_65  \\\n",
       "count              51.000000       51.000000       51.000000     51.000000   \n",
       "mean                2.529699       13.864436        8.732639    874.882913   \n",
       "std                 1.890858        1.735674        1.389106     18.494279   \n",
       "min                 0.272488       10.313445        4.644884    826.277840   \n",
       "25%                 1.071969       12.772303        7.800254    865.756168   \n",
       "50%                 2.093872       13.938746        8.903040    872.745487   \n",
       "75%                 3.535228       14.681799        9.725720    881.860058   \n",
       "max                 7.879191       20.405862       11.895671    941.949182   \n",
       "\n",
       "       Pop_plus_65  \n",
       "count    51.000000  \n",
       "mean    125.117087  \n",
       "std      18.494279  \n",
       "min      58.050818  \n",
       "25%     118.139942  \n",
       "50%     127.254513  \n",
       "75%     134.243832  \n",
       "max     173.722160  "
      ]
     },
     "execution_count": 34,
     "metadata": {},
     "output_type": "execute_result"
    }
   ],
   "source": [
    "data.describe()"
   ]
  },
  {
   "cell_type": "code",
   "execution_count": 33,
   "metadata": {},
   "outputs": [
    {
     "data": {
      "image/png": "[encoded data removed]",
      "text/plain": [
       "<Figure size 720x360 with 8 Axes>"
      ]
     },
     "metadata": {
      "needs_background": "light"
     },
     "output_type": "display_data"
    }
   ],
   "source": [
    "fig, axes = plt.subplots(2,4,figsize=(10,5)) \n",
    "columns = ['Pop_Total','Immigration_dom_net','Am_migration_avec_etranger',\n",
    "               'Immigration_inter_net','Taux_naissance','Taux_mortalite','Pop_moins_65','Pop_plus_65']\n",
    "for i,col in enumerate(list(columns)):\n",
    "    plot = sns.histplot(data=data[col], kde=True, stat='density', ax=axes.flatten()[i])\n",
    "plt.tight_layout() \n",
    "plt.show()"
   ]
  },
  {
   "cell_type": "code",
   "execution_count": 35,
   "metadata": {
    "scrolled": true
   },
   "outputs": [
    {
     "data": {
      "image/png": "[encoded data removed]",
      "text/plain": [
       "<Figure size 576x432 with 2 Axes>"
      ]
     },
     "metadata": {
      "needs_background": "light"
     },
     "output_type": "display_data"
    }
   ],
   "source": [
    "corr_data = data.corr(method='spearman')\n",
    "plt.figure(figsize=(8, 6))\n",
    "sns.heatmap(corr_data, annot=True)\n",
    "plt.show()"
   ]
  },
  {
   "cell_type": "code",
   "execution_count": 60,
   "metadata": {},
   "outputs": [
    {
     "data": {
      "text/html": [
       "<div>\n",
       "<style scoped>\n",
       "    .dataframe tbody tr th:only-of-type {\n",
       "        vertical-align: middle;\n",
       "    }\n",
       "\n",
       "    .dataframe tbody tr th {\n",
       "        vertical-align: top;\n",
       "    }\n",
       "\n",
       "    .dataframe thead th {\n",
       "        text-align: right;\n",
       "    }\n",
       "</style>\n",
       "<table border=\"1\" class=\"dataframe\">\n",
       "  <thead>\n",
       "    <tr style=\"text-align: right;\">\n",
       "      <th></th>\n",
       "      <th>State</th>\n",
       "      <th>Pop_Total</th>\n",
       "      <th>Immigration_dom_net</th>\n",
       "      <th>Am_migration_avec_etranger</th>\n",
       "      <th>Immigration_inter_net</th>\n",
       "      <th>Taux_naissance</th>\n",
       "      <th>Taux_mortalite</th>\n",
       "      <th>Pop_moins_65</th>\n",
       "      <th>Pop_plus_65</th>\n",
       "    </tr>\n",
       "    <tr>\n",
       "      <th>State</th>\n",
       "      <th></th>\n",
       "      <th></th>\n",
       "      <th></th>\n",
       "      <th></th>\n",
       "      <th></th>\n",
       "      <th></th>\n",
       "      <th></th>\n",
       "      <th></th>\n",
       "      <th></th>\n",
       "    </tr>\n",
       "  </thead>\n",
       "  <tbody>\n",
       "    <tr>\n",
       "      <th>Alabama</th>\n",
       "      <td>Alabama</td>\n",
       "      <td>4464356</td>\n",
       "      <td>-1.784356</td>\n",
       "      <td>-0.021952</td>\n",
       "      <td>0.689685</td>\n",
       "      <td>14.407229</td>\n",
       "      <td>10.284126</td>\n",
       "      <td>869.212939</td>\n",
       "      <td>130.787061</td>\n",
       "    </tr>\n",
       "    <tr>\n",
       "      <th>Alaska</th>\n",
       "      <td>Alaska</td>\n",
       "      <td>634892</td>\n",
       "      <td>-1.718402</td>\n",
       "      <td>-0.239411</td>\n",
       "      <td>2.094844</td>\n",
       "      <td>15.952319</td>\n",
       "      <td>4.644884</td>\n",
       "      <td>941.949182</td>\n",
       "      <td>58.050818</td>\n",
       "    </tr>\n",
       "    <tr>\n",
       "      <th>Arizona</th>\n",
       "      <td>Arizona</td>\n",
       "      <td>5307331</td>\n",
       "      <td>14.250666</td>\n",
       "      <td>-0.033915</td>\n",
       "      <td>4.294814</td>\n",
       "      <td>15.882748</td>\n",
       "      <td>7.766050</td>\n",
       "      <td>869.535365</td>\n",
       "      <td>130.464635</td>\n",
       "    </tr>\n",
       "    <tr>\n",
       "      <th>Arkansas</th>\n",
       "      <td>Arkansas</td>\n",
       "      <td>2692090</td>\n",
       "      <td>0.358086</td>\n",
       "      <td>-0.013373</td>\n",
       "      <td>1.069429</td>\n",
       "      <td>14.349075</td>\n",
       "      <td>10.507078</td>\n",
       "      <td>861.061480</td>\n",
       "      <td>138.938520</td>\n",
       "    </tr>\n",
       "    <tr>\n",
       "      <th>California</th>\n",
       "      <td>California</td>\n",
       "      <td>34501130</td>\n",
       "      <td>-2.014398</td>\n",
       "      <td>-0.043912</td>\n",
       "      <td>7.879191</td>\n",
       "      <td>15.371931</td>\n",
       "      <td>6.715519</td>\n",
       "      <td>894.028746</td>\n",
       "      <td>105.971254</td>\n",
       "    </tr>\n",
       "  </tbody>\n",
       "</table>\n",
       "</div>"
      ],
      "text/plain": [
       "                 State  Pop_Total  Immigration_dom_net  \\\n",
       "State                                                    \n",
       "Alabama        Alabama    4464356            -1.784356   \n",
       "Alaska          Alaska     634892            -1.718402   \n",
       "Arizona        Arizona    5307331            14.250666   \n",
       "Arkansas      Arkansas    2692090             0.358086   \n",
       "California  California   34501130            -2.014398   \n",
       "\n",
       "            Am_migration_avec_etranger  Immigration_inter_net  Taux_naissance  \\\n",
       "State                                                                           \n",
       "Alabama                      -0.021952               0.689685       14.407229   \n",
       "Alaska                       -0.239411               2.094844       15.952319   \n",
       "Arizona                      -0.033915               4.294814       15.882748   \n",
       "Arkansas                     -0.013373               1.069429       14.349075   \n",
       "California                   -0.043912               7.879191       15.371931   \n",
       "\n",
       "            Taux_mortalite  Pop_moins_65  Pop_plus_65  \n",
       "State                                                  \n",
       "Alabama          10.284126    869.212939   130.787061  \n",
       "Alaska            4.644884    941.949182    58.050818  \n",
       "Arizona           7.766050    869.535365   130.464635  \n",
       "Arkansas         10.507078    861.061480   138.938520  \n",
       "California        6.715519    894.028746   105.971254  "
      ]
     },
     "execution_count": 60,
     "metadata": {},
     "output_type": "execute_result"
    }
   ],
   "source": [
    "data.head()"
   ]
  },
  {
   "cell_type": "code",
   "execution_count": 32,
   "metadata": {},
   "outputs": [],
   "source": [
    "data1=data.drop(['State','Pop_Total'],axis=1)"
   ]
  },
  {
   "cell_type": "code",
   "execution_count": 33,
   "metadata": {},
   "outputs": [],
   "source": [
    "datascale=pd.DataFrame(scale(data1))\n",
    "datascale.columns =['Immigration_dom_net','Am_migration_avec_etranger',\n",
    "               'Immigration_inter_net','Taux_naissance','Taux_mortalite','Pop_moins_65','Pop_plus_65']\n"
   ]
  },
  {
   "cell_type": "code",
   "execution_count": 34,
   "metadata": {
    "scrolled": false
   },
   "outputs": [
    {
     "data": {
      "text/html": [
       "<div>\n",
       "<style scoped>\n",
       "    .dataframe tbody tr th:only-of-type {\n",
       "        vertical-align: middle;\n",
       "    }\n",
       "\n",
       "    .dataframe tbody tr th {\n",
       "        vertical-align: top;\n",
       "    }\n",
       "\n",
       "    .dataframe thead th {\n",
       "        text-align: right;\n",
       "    }\n",
       "</style>\n",
       "<table border=\"1\" class=\"dataframe\">\n",
       "  <thead>\n",
       "    <tr style=\"text-align: right;\">\n",
       "      <th></th>\n",
       "      <th>Immigration_dom_net</th>\n",
       "      <th>Am_migration_avec_etranger</th>\n",
       "      <th>Immigration_inter_net</th>\n",
       "      <th>Taux_naissance</th>\n",
       "      <th>Taux_mortalite</th>\n",
       "      <th>Pop_moins_65</th>\n",
       "      <th>Pop_plus_65</th>\n",
       "    </tr>\n",
       "  </thead>\n",
       "  <tbody>\n",
       "    <tr>\n",
       "      <th>0</th>\n",
       "      <td>-0.296680</td>\n",
       "      <td>0.394811</td>\n",
       "      <td>-0.982794</td>\n",
       "      <td>0.315839</td>\n",
       "      <td>1.128010</td>\n",
       "      <td>-0.309631</td>\n",
       "      <td>0.309631</td>\n",
       "    </tr>\n",
       "    <tr>\n",
       "      <th>1</th>\n",
       "      <td>-0.287042</td>\n",
       "      <td>-3.554784</td>\n",
       "      <td>-0.232266</td>\n",
       "      <td>1.214893</td>\n",
       "      <td>-2.972006</td>\n",
       "      <td>3.662409</td>\n",
       "      <td>-3.662409</td>\n",
       "    </tr>\n",
       "    <tr>\n",
       "      <th>2</th>\n",
       "      <td>2.046735</td>\n",
       "      <td>0.177521</td>\n",
       "      <td>0.942788</td>\n",
       "      <td>1.174411</td>\n",
       "      <td>-0.702759</td>\n",
       "      <td>-0.292023</td>\n",
       "      <td>0.292023</td>\n",
       "    </tr>\n",
       "    <tr>\n",
       "      <th>3</th>\n",
       "      <td>0.016424</td>\n",
       "      <td>0.550629</td>\n",
       "      <td>-0.779964</td>\n",
       "      <td>0.282000</td>\n",
       "      <td>1.290107</td>\n",
       "      <td>-0.754772</td>\n",
       "      <td>0.754772</td>\n",
       "    </tr>\n",
       "    <tr>\n",
       "      <th>4</th>\n",
       "      <td>-0.330300</td>\n",
       "      <td>-0.004036</td>\n",
       "      <td>2.857286</td>\n",
       "      <td>0.877178</td>\n",
       "      <td>-1.466549</td>\n",
       "      <td>1.045531</td>\n",
       "      <td>-1.045531</td>\n",
       "    </tr>\n",
       "  </tbody>\n",
       "</table>\n",
       "</div>"
      ],
      "text/plain": [
       "   Immigration_dom_net  Am_migration_avec_etranger  Immigration_inter_net  \\\n",
       "0            -0.296680                    0.394811              -0.982794   \n",
       "1            -0.287042                   -3.554784              -0.232266   \n",
       "2             2.046735                    0.177521               0.942788   \n",
       "3             0.016424                    0.550629              -0.779964   \n",
       "4            -0.330300                   -0.004036               2.857286   \n",
       "\n",
       "   Taux_naissance  Taux_mortalite  Pop_moins_65  Pop_plus_65  \n",
       "0        0.315839        1.128010     -0.309631     0.309631  \n",
       "1        1.214893       -2.972006      3.662409    -3.662409  \n",
       "2        1.174411       -0.702759     -0.292023     0.292023  \n",
       "3        0.282000        1.290107     -0.754772     0.754772  \n",
       "4        0.877178       -1.466549      1.045531    -1.045531  "
      ]
     },
     "execution_count": 34,
     "metadata": {},
     "output_type": "execute_result"
    }
   ],
   "source": [
    "datascale.head()"
   ]
  },
  {
   "cell_type": "code",
   "execution_count": 35,
   "metadata": {},
   "outputs": [],
   "source": [
    "datascale.index=data['State']"
   ]
  },
  {
   "cell_type": "markdown",
   "metadata": {},
   "source": [
    "#### Clustering using k-means"
   ]
  },
  {
   "cell_type": "markdown",
   "metadata": {},
   "source": [
    "Ressource:\n",
    "https://scikit-learn.org/stable/modules/generated/sklearn.cluster.KMeans.html"
   ]
  },
  {
   "cell_type": "code",
   "execution_count": 9,
   "metadata": {
    "scrolled": true
   },
   "outputs": [
    {
     "name": "stderr",
     "output_type": "stream",
     "text": [
      "C:\\Users\\JOJR\\anaconda3\\lib\\site-packages\\sklearn\\cluster\\_kmeans.py:1036: UserWarning: KMeans is known to have a memory leak on Windows with MKL, when there are less chunks than available threads. You can avoid it by setting the environment variable OMP_NUM_THREADS=1.\n",
      "  warnings.warn(\n"
     ]
    },
    {
     "data": {
      "image/png": "[encoded data removed]",
      "text/plain": [
       "<Figure size 576x396 with 2 Axes>"
      ]
     },
     "metadata": {},
     "output_type": "display_data"
    },
    {
     "data": {
      "text/plain": [
       "<AxesSubplot:title={'center':'Distortion Score Elbow for KMeans Clustering'}, xlabel='k', ylabel='distortion score'>"
      ]
     },
     "execution_count": 9,
     "metadata": {},
     "output_type": "execute_result"
    }
   ],
   "source": [
    "from yellowbrick.cluster import KElbowVisualizer\n",
    "from yellowbrick.cluster import SilhouetteVisualizer\n",
    "model_kmeans = KMeans(max_iter=1000)\n",
    "datascale_kmean = KElbowVisualizer(model_kmeans, k=(1,12)).fit(datascale)\n",
    "datascale_kmean.show()"
   ]
  },
  {
   "cell_type": "code",
   "execution_count": 10,
   "metadata": {},
   "outputs": [],
   "source": [
    "datascale_kmean = KMeans(n_clusters=2, init='k-means++', random_state=0).fit(datascale)"
   ]
  },
  {
   "cell_type": "code",
   "execution_count": 11,
   "metadata": {},
   "outputs": [
    {
     "data": {
      "text/plain": [
       "Counter({1: 36, 0: 15})"
      ]
     },
     "execution_count": 11,
     "metadata": {},
     "output_type": "execute_result"
    }
   ],
   "source": [
    "datascale_kmean.labels_\n",
    "Counter(datascale_kmean.labels_)"
   ]
  },
  {
   "cell_type": "code",
   "execution_count": 73,
   "metadata": {
    "scrolled": true
   },
   "outputs": [
    {
     "data": {
      "text/html": [
       "<div>\n",
       "<style scoped>\n",
       "    .dataframe tbody tr th:only-of-type {\n",
       "        vertical-align: middle;\n",
       "    }\n",
       "\n",
       "    .dataframe tbody tr th {\n",
       "        vertical-align: top;\n",
       "    }\n",
       "\n",
       "    .dataframe thead th {\n",
       "        text-align: right;\n",
       "    }\n",
       "</style>\n",
       "<table border=\"1\" class=\"dataframe\">\n",
       "  <thead>\n",
       "    <tr style=\"text-align: right;\">\n",
       "      <th></th>\n",
       "      <th>State</th>\n",
       "      <th>label</th>\n",
       "    </tr>\n",
       "    <tr>\n",
       "      <th>State</th>\n",
       "      <th></th>\n",
       "      <th></th>\n",
       "    </tr>\n",
       "  </thead>\n",
       "  <tbody>\n",
       "    <tr>\n",
       "      <th>Alaska</th>\n",
       "      <td>Alaska</td>\n",
       "      <td>0</td>\n",
       "    </tr>\n",
       "    <tr>\n",
       "      <th>Arizona</th>\n",
       "      <td>Arizona</td>\n",
       "      <td>0</td>\n",
       "    </tr>\n",
       "    <tr>\n",
       "      <th>California</th>\n",
       "      <td>California</td>\n",
       "      <td>0</td>\n",
       "    </tr>\n",
       "    <tr>\n",
       "      <th>Colorado</th>\n",
       "      <td>Colorado</td>\n",
       "      <td>0</td>\n",
       "    </tr>\n",
       "    <tr>\n",
       "      <th>Georgia</th>\n",
       "      <td>Georgia</td>\n",
       "      <td>0</td>\n",
       "    </tr>\n",
       "    <tr>\n",
       "      <th>Hawaii</th>\n",
       "      <td>Hawaii</td>\n",
       "      <td>0</td>\n",
       "    </tr>\n",
       "    <tr>\n",
       "      <th>Idaho</th>\n",
       "      <td>Idaho</td>\n",
       "      <td>0</td>\n",
       "    </tr>\n",
       "    <tr>\n",
       "      <th>Maryland</th>\n",
       "      <td>Maryland</td>\n",
       "      <td>0</td>\n",
       "    </tr>\n",
       "    <tr>\n",
       "      <th>Nevada</th>\n",
       "      <td>Nevada</td>\n",
       "      <td>0</td>\n",
       "    </tr>\n",
       "    <tr>\n",
       "      <th>New Mexico</th>\n",
       "      <td>New Mexico</td>\n",
       "      <td>0</td>\n",
       "    </tr>\n",
       "    <tr>\n",
       "      <th>North Carolina</th>\n",
       "      <td>North Carolina</td>\n",
       "      <td>0</td>\n",
       "    </tr>\n",
       "    <tr>\n",
       "      <th>Texas</th>\n",
       "      <td>Texas</td>\n",
       "      <td>0</td>\n",
       "    </tr>\n",
       "    <tr>\n",
       "      <th>Utah</th>\n",
       "      <td>Utah</td>\n",
       "      <td>0</td>\n",
       "    </tr>\n",
       "    <tr>\n",
       "      <th>Virginia</th>\n",
       "      <td>Virginia</td>\n",
       "      <td>0</td>\n",
       "    </tr>\n",
       "    <tr>\n",
       "      <th>Washington</th>\n",
       "      <td>Washington</td>\n",
       "      <td>0</td>\n",
       "    </tr>\n",
       "  </tbody>\n",
       "</table>\n",
       "</div>"
      ],
      "text/plain": [
       "                         State  label\n",
       "State                                \n",
       "Alaska                  Alaska      0\n",
       "Arizona                Arizona      0\n",
       "California          California      0\n",
       "Colorado              Colorado      0\n",
       "Georgia                Georgia      0\n",
       "Hawaii                  Hawaii      0\n",
       "Idaho                    Idaho      0\n",
       "Maryland              Maryland      0\n",
       "Nevada                  Nevada      0\n",
       "New Mexico          New Mexico      0\n",
       "North Carolina  North Carolina      0\n",
       "Texas                    Texas      0\n",
       "Utah                      Utah      0\n",
       "Virginia              Virginia      0\n",
       "Washington          Washington      0"
      ]
     },
     "execution_count": 73,
     "metadata": {},
     "output_type": "execute_result"
    }
   ],
   "source": [
    "datascale_kmean_label=pd.DataFrame(data['State'])\n",
    "datascale_kmean_label['label']=datascale_kmean.labels_\n",
    "datascale_kmean_label[datascale_kmean_label['label']==1]\n",
    "datascale_kmean_label[datascale_kmean_label['label']==0]"
   ]
  },
  {
   "cell_type": "markdown",
   "metadata": {},
   "source": [
    "#### Clustering using k-medoid"
   ]
  },
  {
   "cell_type": "markdown",
   "metadata": {},
   "source": [
    "Ressources:\n",
    "k-medoids using python:\n",
    "https://scikit-learn-extra.readthedocs.io/en/stable/generated/sklearn_extra.cluster.KMedoids.html\n",
    "\n",
    "Silhouette and Elbow method for number of cluster optimal:\n",
    "https://www.scikit-yb.org/en/latest/api/cluster/elbow.html"
   ]
  },
  {
   "cell_type": "code",
   "execution_count": 34,
   "metadata": {},
   "outputs": [
    {
     "data": {
      "image/png": "[encoded data removed]",
      "text/plain": [
       "<Figure size 576x396 with 2 Axes>"
      ]
     },
     "metadata": {},
     "output_type": "display_data"
    },
    {
     "data": {
      "text/plain": [
       "<AxesSubplot:title={'center':'Distortion Score Elbow for KMedoids Clustering'}, xlabel='k', ylabel='distortion score'>"
      ]
     },
     "execution_count": 34,
     "metadata": {},
     "output_type": "execute_result"
    }
   ],
   "source": [
    "model_kmedo = KMedoids()\n",
    "datascale_kmedo = KElbowVisualizer(model_kmedo, k=(2,12)).fit(datascale)\n",
    "datascale_kmedo.show()"
   ]
  },
  {
   "cell_type": "code",
   "execution_count": 37,
   "metadata": {},
   "outputs": [
    {
     "data": {
      "text/plain": [
       "Counter({0: 30, 1: 21})"
      ]
     },
     "execution_count": 37,
     "metadata": {},
     "output_type": "execute_result"
    }
   ],
   "source": [
    "model_kmedo = KMedoids(method='pam',n_clusters=2)\n",
    "datascale_kmedo = model_kmedo.fit(datascale)\n",
    "datascale_kmedo.labels_\n",
    "Counter(datascale_kmedo.labels_)"
   ]
  },
  {
   "cell_type": "markdown",
   "metadata": {},
   "source": [
    "#### Clustering using Hierarchical Ascending Classification (CAH)"
   ]
  },
  {
   "cell_type": "markdown",
   "metadata": {},
   "source": [
    "Ressource: Hierarchical Ascending Classification using python\n",
    "\n",
    "https://scikit-learn.org/stable/modules/generated/sklearn.cluster.AgglomerativeClustering.html#sklearn.cluster.AgglomerativeClustering.fit_predict"
   ]
  },
  {
   "cell_type": "code",
   "execution_count": 14,
   "metadata": {},
   "outputs": [],
   "source": [
    "import scipy.cluster.hierarchy as sch\n",
    "from sklearn.cluster import AgglomerativeClustering as ac"
   ]
  },
  {
   "cell_type": "code",
   "execution_count": 36,
   "metadata": {},
   "outputs": [],
   "source": [
    "datascale['State']=datascale.index"
   ]
  },
  {
   "cell_type": "code",
   "execution_count": 37,
   "metadata": {},
   "outputs": [
    {
     "data": {
      "text/html": [
       "<div>\n",
       "<style scoped>\n",
       "    .dataframe tbody tr th:only-of-type {\n",
       "        vertical-align: middle;\n",
       "    }\n",
       "\n",
       "    .dataframe tbody tr th {\n",
       "        vertical-align: top;\n",
       "    }\n",
       "\n",
       "    .dataframe thead th {\n",
       "        text-align: right;\n",
       "    }\n",
       "</style>\n",
       "<table border=\"1\" class=\"dataframe\">\n",
       "  <thead>\n",
       "    <tr style=\"text-align: right;\">\n",
       "      <th></th>\n",
       "      <th>Immigration_dom_net</th>\n",
       "      <th>Am_migration_avec_etranger</th>\n",
       "      <th>Immigration_inter_net</th>\n",
       "      <th>Taux_naissance</th>\n",
       "      <th>Taux_mortalite</th>\n",
       "      <th>Pop_moins_65</th>\n",
       "      <th>Pop_plus_65</th>\n",
       "      <th>State</th>\n",
       "    </tr>\n",
       "    <tr>\n",
       "      <th>State</th>\n",
       "      <th></th>\n",
       "      <th></th>\n",
       "      <th></th>\n",
       "      <th></th>\n",
       "      <th></th>\n",
       "      <th></th>\n",
       "      <th></th>\n",
       "      <th></th>\n",
       "    </tr>\n",
       "  </thead>\n",
       "  <tbody>\n",
       "    <tr>\n",
       "      <th>Alabama</th>\n",
       "      <td>-0.296680</td>\n",
       "      <td>0.394811</td>\n",
       "      <td>-0.982794</td>\n",
       "      <td>0.315839</td>\n",
       "      <td>1.128010</td>\n",
       "      <td>-0.309631</td>\n",
       "      <td>0.309631</td>\n",
       "      <td>Alabama</td>\n",
       "    </tr>\n",
       "    <tr>\n",
       "      <th>Alaska</th>\n",
       "      <td>-0.287042</td>\n",
       "      <td>-3.554784</td>\n",
       "      <td>-0.232266</td>\n",
       "      <td>1.214893</td>\n",
       "      <td>-2.972006</td>\n",
       "      <td>3.662409</td>\n",
       "      <td>-3.662409</td>\n",
       "      <td>Alaska</td>\n",
       "    </tr>\n",
       "    <tr>\n",
       "      <th>Arizona</th>\n",
       "      <td>2.046735</td>\n",
       "      <td>0.177521</td>\n",
       "      <td>0.942788</td>\n",
       "      <td>1.174411</td>\n",
       "      <td>-0.702759</td>\n",
       "      <td>-0.292023</td>\n",
       "      <td>0.292023</td>\n",
       "      <td>Arizona</td>\n",
       "    </tr>\n",
       "    <tr>\n",
       "      <th>Arkansas</th>\n",
       "      <td>0.016424</td>\n",
       "      <td>0.550629</td>\n",
       "      <td>-0.779964</td>\n",
       "      <td>0.282000</td>\n",
       "      <td>1.290107</td>\n",
       "      <td>-0.754772</td>\n",
       "      <td>0.754772</td>\n",
       "      <td>Arkansas</td>\n",
       "    </tr>\n",
       "    <tr>\n",
       "      <th>California</th>\n",
       "      <td>-0.330300</td>\n",
       "      <td>-0.004036</td>\n",
       "      <td>2.857286</td>\n",
       "      <td>0.877178</td>\n",
       "      <td>-1.466549</td>\n",
       "      <td>1.045531</td>\n",
       "      <td>-1.045531</td>\n",
       "      <td>California</td>\n",
       "    </tr>\n",
       "  </tbody>\n",
       "</table>\n",
       "</div>"
      ],
      "text/plain": [
       "            Immigration_dom_net  Am_migration_avec_etranger  \\\n",
       "State                                                         \n",
       "Alabama               -0.296680                    0.394811   \n",
       "Alaska                -0.287042                   -3.554784   \n",
       "Arizona                2.046735                    0.177521   \n",
       "Arkansas               0.016424                    0.550629   \n",
       "California            -0.330300                   -0.004036   \n",
       "\n",
       "            Immigration_inter_net  Taux_naissance  Taux_mortalite  \\\n",
       "State                                                               \n",
       "Alabama                 -0.982794        0.315839        1.128010   \n",
       "Alaska                  -0.232266        1.214893       -2.972006   \n",
       "Arizona                  0.942788        1.174411       -0.702759   \n",
       "Arkansas                -0.779964        0.282000        1.290107   \n",
       "California               2.857286        0.877178       -1.466549   \n",
       "\n",
       "            Pop_moins_65  Pop_plus_65       State  \n",
       "State                                              \n",
       "Alabama        -0.309631     0.309631     Alabama  \n",
       "Alaska          3.662409    -3.662409      Alaska  \n",
       "Arizona        -0.292023     0.292023     Arizona  \n",
       "Arkansas       -0.754772     0.754772    Arkansas  \n",
       "California      1.045531    -1.045531  California  "
      ]
     },
     "execution_count": 37,
     "metadata": {},
     "output_type": "execute_result"
    }
   ],
   "source": [
    "datascale.head()"
   ]
  },
  {
   "cell_type": "code",
   "execution_count": 38,
   "metadata": {},
   "outputs": [
    {
     "data": {
      "image/png": "[encoded data removed]",
      "text/plain": [
       "<Figure size 576x396 with 1 Axes>"
      ]
     },
     "metadata": {},
     "output_type": "display_data"
    }
   ],
   "source": [
    "dendrogram = sch.dendrogram(sch.linkage(datascale.iloc[:,0:6], method  = \"ward\"))\n",
    "plt.title('Clustering Dendrogramme')\n",
    "plt.xlabel('State')\n",
    "plt.show()"
   ]
  },
  {
   "cell_type": "code",
   "execution_count": 41,
   "metadata": {},
   "outputs": [],
   "source": [
    "model_cah=AgglomerativeClustering(n_clusters=2, affinity='euclidean',compute_full_tree='auto', linkage='ward', \n",
    "                                     compute_distances=False)"
   ]
  },
  {
   "cell_type": "code",
   "execution_count": 45,
   "metadata": {},
   "outputs": [],
   "source": [
    "datascale_ag=model_cah.fit(datascale.iloc[:,0:6])"
   ]
  },
  {
   "cell_type": "code",
   "execution_count": 47,
   "metadata": {},
   "outputs": [
    {
     "data": {
      "text/plain": [
       "Counter({1: 31, 0: 20})"
      ]
     },
     "execution_count": 47,
     "metadata": {},
     "output_type": "execute_result"
    }
   ],
   "source": [
    "datascale_ag.labels_\n",
    "Counter(datascale_ag.labels_)"
   ]
  }
 ],
 "metadata": {
  "kernelspec": {
   "display_name": "Python 3",
   "language": "python",
   "name": "python3"
  },
  "language_info": {
   "codemirror_mode": {
    "name": "ipython",
    "version": 3
   },
   "file_extension": ".py",
   "mimetype": "text/x-python",
   "name": "python",
   "nbconvert_exporter": "python",
   "pygments_lexer": "ipython3",
   "version": "3.8.5"
  }
 },
 "nbformat": 4,
 "nbformat_minor": 4
}
